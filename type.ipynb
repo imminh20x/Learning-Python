{
 "cells": [
  {
   "cell_type": "code",
   "id": "initial_id",
   "metadata": {
    "collapsed": true,
    "ExecuteTime": {
     "end_time": "2025-08-12T07:59:34.842177Z",
     "start_time": "2025-08-12T07:59:34.839288Z"
    }
   },
   "source": [
    "# Integer Value\n",
    "x=7\n",
    "# Float Value\n",
    "y=12.4\n",
    "# Boolean Value\n",
    "is_valid = True\n",
    "# Boolean Value\n",
    "is_valid = False\n",
    "# String Value\n",
    "my_string = \"Minh\""
   ],
   "outputs": [],
   "execution_count": 2
  },
  {
   "metadata": {
    "ExecuteTime": {
     "end_time": "2025-08-12T08:06:01.379760Z",
     "start_time": "2025-08-12T08:06:01.373124Z"
    }
   },
   "cell_type": "code",
   "source": [
    "x = 9; y = 4\n",
    "result_add= x + y # Addition\n",
    "print(result_add)"
   ],
   "id": "6de532c01eefab4f",
   "outputs": [
    {
     "name": "stdout",
     "output_type": "stream",
     "text": [
      "13\n"
     ]
    }
   ],
   "execution_count": 12
  },
  {
   "metadata": {
    "ExecuteTime": {
     "end_time": "2025-08-12T08:06:03.106298Z",
     "start_time": "2025-08-12T08:06:03.103074Z"
    }
   },
   "cell_type": "code",
   "source": [
    "result_sub= x - y # Subtraction\n",
    "print(result_sub)"
   ],
   "id": "8b36c0d18c429318",
   "outputs": [
    {
     "name": "stdout",
     "output_type": "stream",
     "text": [
      "5\n"
     ]
    }
   ],
   "execution_count": 13
  },
  {
   "metadata": {
    "ExecuteTime": {
     "end_time": "2025-08-12T08:06:05.209808Z",
     "start_time": "2025-08-12T08:06:05.206508Z"
    }
   },
   "cell_type": "code",
   "source": [
    "result_mul= x * y # Multiplication\n",
    "print(result_mul)"
   ],
   "id": "f0bb2ef4372da166",
   "outputs": [
    {
     "name": "stdout",
     "output_type": "stream",
     "text": [
      "36\n"
     ]
    }
   ],
   "execution_count": 14
  },
  {
   "metadata": {
    "ExecuteTime": {
     "end_time": "2025-08-12T08:06:08.729068Z",
     "start_time": "2025-08-12T08:06:08.725866Z"
    }
   },
   "cell_type": "code",
   "source": [
    "result_div= x / y # Division\n",
    "print(result_div)"
   ],
   "id": "7b9a3115538b8b37",
   "outputs": [
    {
     "name": "stdout",
     "output_type": "stream",
     "text": [
      "2.25\n"
     ]
    }
   ],
   "execution_count": 15
  },
  {
   "metadata": {
    "ExecuteTime": {
     "end_time": "2025-08-12T08:06:10.321667Z",
     "start_time": "2025-08-12T08:06:10.318506Z"
    }
   },
   "cell_type": "code",
   "source": [
    "result_fdiv= x // y # Floor Division\n",
    "print(result_fdiv)"
   ],
   "id": "a8e8c9fe307a9a85",
   "outputs": [
    {
     "name": "stdout",
     "output_type": "stream",
     "text": [
      "2\n"
     ]
    }
   ],
   "execution_count": 16
  },
  {
   "metadata": {
    "ExecuteTime": {
     "end_time": "2025-08-12T08:05:58.976679Z",
     "start_time": "2025-08-12T08:05:58.973764Z"
    }
   },
   "cell_type": "code",
   "source": [
    "result_mod= x % y # Modulo\n",
    "print(result_mod)"
   ],
   "id": "8571dbdb385427cf",
   "outputs": [
    {
     "name": "stdout",
     "output_type": "stream",
     "text": [
      "1\n"
     ]
    }
   ],
   "execution_count": 11
  },
  {
   "metadata": {
    "ExecuteTime": {
     "end_time": "2025-08-12T07:59:16.685283Z",
     "start_time": "2025-08-12T07:59:16.682781Z"
    }
   },
   "cell_type": "code",
   "source": [
    "#concatenated_string = string1 + string2\n",
    "\n",
    "my_string = \"Hello\" + \"Minh\"\n",
    "print(my_string)"
   ],
   "id": "af30079342a11f68",
   "outputs": [
    {
     "name": "stdout",
     "output_type": "stream",
     "text": [
      "Hello John\n"
     ]
    }
   ],
   "execution_count": 1
  },
  {
   "metadata": {
    "ExecuteTime": {
     "end_time": "2025-08-12T08:01:31.826311Z",
     "start_time": "2025-08-12T08:01:31.824061Z"
    }
   },
   "cell_type": "code",
   "source": [
    "#access char at specific index\n",
    "\n",
    "my_string = \"Minh\"\n",
    "char = my_string[0]\n",
    "print(char)"
   ],
   "id": "9b31dd2310557b72",
   "outputs": [
    {
     "name": "stdout",
     "output_type": "stream",
     "text": [
      "M\n"
     ]
    }
   ],
   "execution_count": 3
  },
  {
   "metadata": {
    "ExecuteTime": {
     "end_time": "2025-08-12T08:04:03.158058Z",
     "start_time": "2025-08-12T08:04:03.154778Z"
    }
   },
   "cell_type": "code",
   "source": [
    "#length of string len(string_name)\n",
    "\n",
    "my_string = \"Minh\"\n",
    "length = len(my_string)\n",
    "\n",
    "print(length)"
   ],
   "id": "7b98ddb6c44daad1",
   "outputs": [
    {
     "name": "stdout",
     "output_type": "stream",
     "text": [
      "4\n"
     ]
    }
   ],
   "execution_count": 5
  },
  {
   "metadata": {
    "ExecuteTime": {
     "end_time": "2025-08-12T08:04:46.834934Z",
     "start_time": "2025-08-12T08:04:46.831997Z"
    }
   },
   "cell_type": "code",
   "source": [
    "#make string upper case\n",
    "\n",
    "my_string = \"Minh\"\n",
    "my_string = my_string.upper()\n",
    "print(my_string)"
   ],
   "id": "9756dcc87232e86f",
   "outputs": [
    {
     "name": "stdout",
     "output_type": "stream",
     "text": [
      "MINH\n"
     ]
    }
   ],
   "execution_count": 6
  },
  {
   "metadata": {
    "ExecuteTime": {
     "end_time": "2025-08-12T08:04:48.657271Z",
     "start_time": "2025-08-12T08:04:48.654133Z"
    }
   },
   "cell_type": "code",
   "source": [
    "#make string lower case\n",
    "\n",
    "my_string = \"Minh\"\n",
    "my_string = my_string.lower()\n",
    "print(my_string)"
   ],
   "id": "863359123e008979",
   "outputs": [
    {
     "name": "stdout",
     "output_type": "stream",
     "text": [
      "minh\n"
     ]
    }
   ],
   "execution_count": 7
  },
  {
   "metadata": {
    "ExecuteTime": {
     "end_time": "2025-08-12T11:26:59.573359Z",
     "start_time": "2025-08-12T11:26:59.566950Z"
    }
   },
   "cell_type": "code",
   "source": [
    "#replace substring in string\n",
    "\n",
    "my_string = \"Minh\"\n",
    "my_string = my_string.replace(\"Minh\", \"MinhDao\")\n",
    "print(my_string)"
   ],
   "id": "f1aa671f13c8fa4b",
   "outputs": [
    {
     "name": "stdout",
     "output_type": "stream",
     "text": [
      "MinhDao\n"
     ]
    }
   ],
   "execution_count": 17
  },
  {
   "metadata": {
    "ExecuteTime": {
     "end_time": "2025-08-12T11:27:04.412398Z",
     "start_time": "2025-08-12T11:27:04.408542Z"
    }
   },
   "cell_type": "code",
   "source": [
    "#find substring in string\n",
    "\n",
    "my_string = \"Minh\"\n",
    "index = my_string.find(\"Minh\")\n",
    "print(index)"
   ],
   "id": "d3af4d0aa3e8a64d",
   "outputs": [
    {
     "name": "stdout",
     "output_type": "stream",
     "text": [
      "0\n"
     ]
    }
   ],
   "execution_count": 18
  },
  {
   "metadata": {
    "ExecuteTime": {
     "end_time": "2025-08-12T11:27:17.553798Z",
     "start_time": "2025-08-12T11:27:17.550767Z"
    }
   },
   "cell_type": "code",
   "source": [
    "#check if substring is in string\n",
    "\n",
    "my_string = \"Minh\"\n",
    "is_in = \"Minh\" in my_string\n",
    "print(is_in)"
   ],
   "id": "c9ebe26349e5be36",
   "outputs": [
    {
     "name": "stdout",
     "output_type": "stream",
     "text": [
      "True\n"
     ]
    }
   ],
   "execution_count": 19
  },
  {
   "metadata": {
    "ExecuteTime": {
     "end_time": "2025-08-12T11:27:28.932990Z",
     "start_time": "2025-08-12T11:27:28.929228Z"
    }
   },
   "cell_type": "code",
   "source": [
    "#slice string\n",
    "\n",
    "my_string = \"Minh\"\n",
    "slice = my_string[0:3]\n",
    "print(slice)"
   ],
   "id": "344fc67c8742b773",
   "outputs": [
    {
     "name": "stdout",
     "output_type": "stream",
     "text": [
      "Min\n"
     ]
    }
   ],
   "execution_count": 20
  },
  {
   "metadata": {},
   "cell_type": "code",
   "outputs": [],
   "execution_count": null,
   "source": [
    "#slice string from start to end\n",
    "\n",
    "my_string = \"Minh\"\n",
    "slice = my_string[0:]\n",
    "print(slice)"
   ],
   "id": "7f67aba71c935bfc"
  },
  {
   "metadata": {
    "ExecuteTime": {
     "end_time": "2025-08-12T11:27:44.459531Z",
     "start_time": "2025-08-12T11:27:44.456399Z"
    }
   },
   "cell_type": "code",
   "source": [
    "#slice string from start to end with step\n",
    "\n",
    "my_string = \"Minh\"\n",
    "slice = my_string[0:3:2]\n",
    "print(slice)"
   ],
   "id": "23c98d5c07c418b",
   "outputs": [
    {
     "name": "stdout",
     "output_type": "stream",
     "text": [
      "Mn\n"
     ]
    }
   ],
   "execution_count": 21
  },
  {
   "metadata": {
    "ExecuteTime": {
     "end_time": "2025-08-12T11:28:01.979617Z",
     "start_time": "2025-08-12T11:28:01.976944Z"
    }
   },
   "cell_type": "code",
   "source": [
    "#slice string from end to start\n",
    "\n",
    "my_string = \"Minh\"\n",
    "slice = my_string[::-1]\n",
    "print(slice)"
   ],
   "id": "42c34d73deb7d840",
   "outputs": [
    {
     "name": "stdout",
     "output_type": "stream",
     "text": [
      "hniM\n"
     ]
    }
   ],
   "execution_count": 23
  },
  {
   "metadata": {
    "ExecuteTime": {
     "end_time": "2025-08-12T11:27:58.881542Z",
     "start_time": "2025-08-12T11:27:58.878326Z"
    }
   },
   "cell_type": "code",
   "source": [
    "#slice string from end to start with step\n",
    "\n",
    "my_string = \"Minh\"\n",
    "slice = my_string[::-2]\n",
    "print(slice)"
   ],
   "id": "440cbabc9f84da13",
   "outputs": [
    {
     "name": "stdout",
     "output_type": "stream",
     "text": [
      "hi\n"
     ]
    }
   ],
   "execution_count": 22
  },
  {
   "metadata": {},
   "cell_type": "code",
   "outputs": [],
   "execution_count": null,
   "source": [
    "#slice string from end to start with step\n",
    "\n",
    "my_string = \"Minh\"\n",
    "slice = my_string[::-3]\n",
    "print(slice)"
   ],
   "id": "1ac2886e9456f8eb"
  },
  {
   "metadata": {
    "ExecuteTime": {
     "end_time": "2025-08-12T11:29:25.993542Z",
     "start_time": "2025-08-12T11:29:25.991851Z"
    }
   },
   "cell_type": "code",
   "source": [
    "#split string into list\n",
    "\n",
    "my_string = \"Minh\"\n",
    "my_list = my_string.split(\"i\")\n",
    "print(my_list)"
   ],
   "id": "a4ac2a36b5f48fdd",
   "outputs": [
    {
     "name": "stdout",
     "output_type": "stream",
     "text": [
      "['M', 'nh']\n"
     ]
    }
   ],
   "execution_count": 28
  },
  {
   "metadata": {
    "ExecuteTime": {
     "end_time": "2025-08-12T11:29:40.430305Z",
     "start_time": "2025-08-12T11:29:40.428003Z"
    }
   },
   "cell_type": "code",
   "source": [
    "#join list into string\n",
    "\n",
    "my_list = [\"Minh\", \"Do\"]\n",
    "my_string = \" \".join(my_list)\n",
    "print(my_string)"
   ],
   "id": "bc4c4f0207d72219",
   "outputs": [
    {
     "name": "stdout",
     "output_type": "stream",
     "text": [
      "Minh Do\n"
     ]
    }
   ],
   "execution_count": 30
  },
  {
   "metadata": {
    "ExecuteTime": {
     "end_time": "2025-08-12T11:30:08.370729Z",
     "start_time": "2025-08-12T11:30:08.368920Z"
    }
   },
   "cell_type": "code",
   "source": [
    "#remove whitespace from string\n",
    "\n",
    "my_string = \" Minh \"\n",
    "my_string = my_string.strip()\n",
    "print(my_string)"
   ],
   "id": "608a9b961169b0b6",
   "outputs": [
    {
     "name": "stdout",
     "output_type": "stream",
     "text": [
      "Minh\n"
     ]
    }
   ],
   "execution_count": 32
  },
  {
   "metadata": {
    "ExecuteTime": {
     "end_time": "2025-08-12T11:30:31.525131Z",
     "start_time": "2025-08-12T11:30:31.522954Z"
    }
   },
   "cell_type": "code",
   "source": [
    "#remove whitespace from string\n",
    "\n",
    "my_string = \" Minh \"\n",
    "my_string = my_string.lstrip()\n",
    "print(my_string)"
   ],
   "id": "cf17aa2b785a046d",
   "outputs": [
    {
     "name": "stdout",
     "output_type": "stream",
     "text": [
      "Minh \n"
     ]
    }
   ],
   "execution_count": 33
  },
  {
   "metadata": {
    "ExecuteTime": {
     "end_time": "2025-08-12T11:30:40.729392Z",
     "start_time": "2025-08-12T11:30:40.726050Z"
    }
   },
   "cell_type": "code",
   "source": [
    "#remove whitespace from string\n",
    "\n",
    "my_string = \" Minh \"\n",
    "my_string = my_string.rstrip()\n",
    "print(my_string)"
   ],
   "id": "8d509b55abde2ec6",
   "outputs": [
    {
     "name": "stdout",
     "output_type": "stream",
     "text": [
      " Minh\n"
     ]
    }
   ],
   "execution_count": 34
  },
  {
   "metadata": {},
   "cell_type": "code",
   "outputs": [],
   "execution_count": null,
   "source": "",
   "id": "3c075dd0a4f053cd"
  }
 ],
 "metadata": {
  "kernelspec": {
   "display_name": "Python 3",
   "language": "python",
   "name": "python3"
  },
  "language_info": {
   "codemirror_mode": {
    "name": "ipython",
    "version": 2
   },
   "file_extension": ".py",
   "mimetype": "text/x-python",
   "name": "python",
   "nbconvert_exporter": "python",
   "pygments_lexer": "ipython2",
   "version": "2.7.6"
  }
 },
 "nbformat": 4,
 "nbformat_minor": 5
}
